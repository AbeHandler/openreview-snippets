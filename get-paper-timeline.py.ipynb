{
 "cells": [
  {
   "cell_type": "markdown",
   "id": "1443ad0e",
   "metadata": {},
   "source": [
    "# Get manuscript 'timeline'\n",
    "\n",
    "## Description\n",
    "Given an OpenReview invitation, list the events (submissions, revisions, reviews, comments, etc.) associated with each submission, arranged chronologically.\n",
    "\n",
    "## Notes\n",
    "* I am not sure what the difference is between `cdate`, `tcdate` and other timestamps. I will check with OpenReview folks to confirm that I am using the correct field.\n",
    "* The list of events does not include comment edits, including score changes. I do not think these are available, but I can double check with OpenReview folks on this too.\n",
    "* I haven't done any of the work to print this into a nice csv or anything, but I think it should be straightforward. You can use `event.stringify(pretty=False)` if you would prefer raw timestamps instead of human readable."
   ]
  },
  {
   "cell_type": "code",
   "execution_count": null,
   "id": "dc3287a3",
   "metadata": {},
   "outputs": [],
   "source": [
    "import collections\n",
    "from datetime import datetime\n",
    "import openreview\n",
    "import os\n",
    "\n",
    "# Change these values according to your needs\n",
    "INVITATION = 'ICLR.cc/2019/Conference/-/Blind_Submission'\n",
    "LIMIT = 10 # Number of papers to download all revisions for\n",
    "\n",
    "# A client is required for any OpenReview API actions\n",
    "guest_client = openreview.Client(baseurl='https://api.openreview.net')"
   ]
  },
  {
   "cell_type": "code",
   "execution_count": null,
   "id": "d9165fab",
   "metadata": {},
   "outputs": [],
   "source": [
    "class EventType(object):\n",
    "    SUBMISSION = \"Submission\"\n",
    "    REVISION = \"Revision\"\n",
    "    REVIEW = \"Review\"\n",
    "    COMMENT = \"Comment\"\n",
    "    METAREVIEW = \"Metareview\"\n",
    "    \n",
    "GENERIC_INITIATOR_AUTHORS = \"Authors\"\n",
    "\n",
    "def get_initiator(note):\n",
    "    return note.signatures[0].split(\"/\")[-1]\n",
    "\n",
    "def clean_timestamp(timestamp):\n",
    "    return datetime.fromtimestamp(\n",
    "        timestamp/1000).strftime('%Y-%m-%dT%H:%M:%S') # Something human-readable for the file name\n",
    "\n",
    "class Event(object):\n",
    "    def __init__(self, forum, event_type, initiator, identifier, timestamp, reply_to):\n",
    "        self.forum = forum\n",
    "        self.event_type = event_type\n",
    "        self.initiator = initiator\n",
    "        self.identifier = identifier\n",
    "        self.timestamp = timestamp\n",
    "        self.reply_to = reply_to\n",
    "    \n",
    "    def stringify(self, pretty=True):\n",
    "        if pretty:\n",
    "            timestamp = clean_timestamp(self.timestamp)\n",
    "        else:\n",
    "            timestamp = self.timestamp\n",
    "        return \"\\t\".join(str(i) for i in [\n",
    "            timestamp, self.forum, self.event_type,\n",
    "            self.initiator, self.identifier, self.reply_to])\n",
    "\n",
    "def get_events_from_forum(forum_note):\n",
    "    events = []\n",
    "    for revision in guest_client.get_references(\n",
    "            referent=forum_note.id, original=True):\n",
    "        events.append(Event(\n",
    "            forum_note.id, EventType.REVISION, GENERIC_INITIATOR_AUTHORS,\n",
    "            revision.id, revision.tcdate, revision.replyto))\n",
    "  \n",
    "    this_forum_notes = guest_client.get_notes(forum=forum_note.id)\n",
    "    for note in this_forum_notes:\n",
    "        initiator = get_initiator(note)\n",
    "        \n",
    "        if 'TL;DR' in note.content: # Find a better test for this!\n",
    "            event_type = EventType.SUBMISSION\n",
    "        elif 'review' in note.content:\n",
    "            event_type = EventType.REVIEW\n",
    "        elif 'metareview' in note.content:\n",
    "            event_type = EventType.METAREVIEW\n",
    "        else:\n",
    "            event_type = EventType.COMMENT\n",
    "        events.append(Event(\n",
    "            forum_note.id, event_type, initiator,\n",
    "            note.id, note.tcdate, note.replyto))\n",
    "    return list(sorted(events, key=lambda x:x.timestamp))"
   ]
  },
  {
   "cell_type": "code",
   "execution_count": null,
   "id": "dd7f5c8b",
   "metadata": {},
   "outputs": [],
   "source": [
    "for i, forum_note in enumerate(openreview.tools.iterget_notes(\n",
    "        guest_client, invitation=INVITATION)):\n",
    "    \n",
    "    print( \"#\" + forum_note.content[\"title\"] + \"\\n\")\n",
    "    for event in get_events_from_forum(forum_note):\n",
    "        print(event.stringify())\n",
    "    print(\"\\n\")\n",
    "    \n",
    "    if i == LIMIT:\n",
    "        break"
   ]
  }
 ],
 "metadata": {
  "kernelspec": {
   "display_name": "Python 3 (ipykernel)",
   "language": "python",
   "name": "python3"
  },
  "language_info": {
   "codemirror_mode": {
    "name": "ipython",
    "version": 3
   },
   "file_extension": ".py",
   "mimetype": "text/x-python",
   "name": "python",
   "nbconvert_exporter": "python",
   "pygments_lexer": "ipython3",
   "version": "3.9.7"
  }
 },
 "nbformat": 4,
 "nbformat_minor": 5
}
