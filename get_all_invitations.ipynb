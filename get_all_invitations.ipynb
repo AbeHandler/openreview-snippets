{
 "cells": [
  {
   "cell_type": "markdown",
   "id": "3ed227bd",
   "metadata": {},
   "source": [
    "# Get all invitations\n",
    "\n",
    "## Description\n",
    "Get invitations for all venues hosted on OpenReview. You can then use these invitation IDs to get submissions for the different venues, e.g. \n",
    "\n",
    "\n",
    "```\n",
    "for venue_note in openreview.tools.iterget_notes(\n",
    "        guest_client, invitation=invitation_id):\n",
    "  # Do something\n",
    "```"
   ]
  },
  {
   "cell_type": "code",
   "execution_count": null,
   "id": "58b73e5d",
   "metadata": {},
   "outputs": [],
   "source": [
    "import openreview\n",
    "guest_client = openreview.Client(baseurl='https://api.openreview.net')\n",
    "all_invitations = guest_client.get_invitations(\n",
    "        regex='.*Blind_Submission',\n",
    "        offset=0)\n",
    "for i, invitation in enumerate(sorted(all_invitations, key=lambda x:x.id)):\n",
    "    print(str(i) + \"\\t\" + invitation.id)"
   ]
  }
 ],
 "metadata": {
  "kernelspec": {
   "display_name": "Python 3 (ipykernel)",
   "language": "python",
   "name": "python3"
  },
  "language_info": {
   "codemirror_mode": {
    "name": "ipython",
    "version": 3
   },
   "file_extension": ".py",
   "mimetype": "text/x-python",
   "name": "python",
   "nbconvert_exporter": "python",
   "pygments_lexer": "ipython3",
   "version": "3.9.7"
  }
 },
 "nbformat": 4,
 "nbformat_minor": 5
}
