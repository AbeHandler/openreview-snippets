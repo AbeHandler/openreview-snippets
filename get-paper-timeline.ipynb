{
 "cells": [
  {
   "cell_type": "markdown",
   "id": "1443ad0e",
   "metadata": {},
   "source": [
    "# Get manuscript 'timeline'\n",
    "\n",
    "## Description\n",
    "Given an OpenReview invitation, list the events (submissions, revisions, reviews, comments, etc.) associated with each submission, arranged chronologically.\n",
    "\n",
    "## Notes\n",
    "* I am not sure what the difference is between `cdate`, `tcdate` and other timestamps. I will check with OpenReview folks to confirm that I am using the correct field.\n",
    "* The list of events does not include comment edits, including score changes. I do not think these are available, but I can double check with OpenReview folks on this too.\n",
    "* I haven't done any of the work to print this into a nice csv or anything, but I think it should be straightforward. You can use `event.stringify(pretty=False)` if you would prefer raw timestamps instead of human readable.\n",
    "* This code was written with the ICLR 2019 invitation. If you are using a different ICLR invitation, the conditions to identify a metareview might be different."
   ]
  },
  {
   "cell_type": "code",
   "execution_count": 1,
   "id": "dc3287a3",
   "metadata": {},
   "outputs": [],
   "source": [
    "import collections\n",
    "from datetime import datetime\n",
    "import openreview\n",
    "import os\n",
    "\n",
    "# Change these values according to your needs\n",
    "INVITATION = 'ICLR.cc/2019/Conference/-/Blind_Submission'\n",
    "LIMIT = 1 # Number of papers to build timelines for\n",
    "\n",
    "# A client is required for any OpenReview API actions\n",
    "guest_client = openreview.Client(baseurl='https://api.openreview.net')"
   ]
  },
  {
   "cell_type": "code",
   "execution_count": 2,
   "id": "d9165fab",
   "metadata": {},
   "outputs": [],
   "source": [
    "class EventType(object):\n",
    "    SUBMISSION = \"Submission\"\n",
    "    REVISION = \"Revision\"\n",
    "    REVIEW = \"Review\"\n",
    "    COMMENT = \"Comment\"\n",
    "    METAREVIEW = \"Metareview\"\n",
    "    \n",
    "GENERIC_INITIATOR_AUTHORS = \"Authors\"\n",
    "\n",
    "def get_initiator(note):\n",
    "    return note.signatures[0].split(\"/\")[-1]\n",
    "\n",
    "def clean_timestamp(timestamp):\n",
    "    return datetime.fromtimestamp(\n",
    "        timestamp/1000).strftime('%Y-%m-%dT%H:%M:%S') # Something human-readable for the file name\n",
    "\n",
    "class Event(object):\n",
    "    def __init__(self, forum, event_type, initiator, identifier, timestamp, reply_to):\n",
    "        self.forum = forum\n",
    "        self.event_type = event_type\n",
    "        self.initiator = initiator\n",
    "        self.identifier = identifier\n",
    "        self.timestamp = timestamp\n",
    "        self.reply_to = reply_to\n",
    "    \n",
    "    def stringify(self, pretty=True):\n",
    "        if pretty:\n",
    "            timestamp = clean_timestamp(self.timestamp)\n",
    "        else:\n",
    "            timestamp = self.timestamp\n",
    "        return \"\\t\".join(str(i) for i in [\n",
    "            timestamp, self.forum, self.event_type,\n",
    "            self.initiator, self.identifier, self.reply_to])\n",
    "\n",
    "def get_events_from_forum(forum_note):\n",
    "    events = []\n",
    "    for revision in guest_client.get_references(\n",
    "            referent=forum_note.id, original=True):\n",
    "        events.append(Event(\n",
    "            forum_note.id, EventType.REVISION, GENERIC_INITIATOR_AUTHORS,\n",
    "            revision.id, revision.tcdate, revision.replyto))\n",
    "  \n",
    "    this_forum_notes = guest_client.get_notes(forum=forum_note.id)\n",
    "    for note in this_forum_notes:\n",
    "        initiator = get_initiator(note)\n",
    "        \n",
    "        if 'TL;DR' in note.content: # Find a better test for this!\n",
    "            event_type = EventType.SUBMISSION\n",
    "        elif 'review' in note.content:\n",
    "            event_type = EventType.REVIEW\n",
    "        elif 'metareview' in note.content:\n",
    "            event_type = EventType.METAREVIEW\n",
    "        else:\n",
    "            event_type = EventType.COMMENT\n",
    "        events.append(Event(\n",
    "            forum_note.id, event_type, initiator,\n",
    "            note.id, note.tcdate, note.replyto))\n",
    "    return list(sorted(events, key=lambda x:x.timestamp))"
   ]
  },
  {
   "cell_type": "code",
   "execution_count": 3,
   "id": "dd7f5c8b",
   "metadata": {},
   "outputs": [
    {
     "name": "stdout",
     "output_type": "stream",
     "text": [
      "# 16 events in Deep Decoder: Concise Image Representations from Untrained Non-convolutional Networks\n",
      "\n",
      "2018-09-27T17:55:01\trylV-2C9KQ\tRevision\tAuthors\tBkC3bA5YX\tNone\n",
      "2018-09-27T18:38:51\trylV-2C9KQ\tSubmission\tConference\trylV-2C9KQ\tNone\n",
      "2018-10-24T12:29:36\trylV-2C9KQ\tReview\tAnonReviewer1\tBJeYeRM0jm\trylV-2C9KQ\n",
      "2018-11-02T11:30:36\trylV-2C9KQ\tReview\tAnonReviewer2\tBkeNja15nm\trylV-2C9KQ\n",
      "2018-11-03T01:58:00\trylV-2C9KQ\tReview\tAnonReviewer3\tS1llxt2cnQ\trylV-2C9KQ\n",
      "2018-11-13T00:58:04\trylV-2C9KQ\tRevision\tAuthors\tBJHguJuTQ\tNone\n",
      "2018-11-13T00:59:00\trylV-2C9KQ\tComment\tAuthors\tHJea7OJdpX\tS1llxt2cnQ\n",
      "2018-11-13T01:00:02\trylV-2C9KQ\tComment\tAuthors\tHkg5wOyOaX\tBkeNja15nm\n",
      "2018-11-13T01:02:02\trylV-2C9KQ\tComment\tAuthors\tr1gzyKy_a7\tBJeYeRM0jm\n",
      "2018-11-14T14:38:53\trylV-2C9KQ\tComment\tAnonReviewer1\trkxS0tgca7\tr1gzyKy_a7\n",
      "2018-11-17T18:23:30\trylV-2C9KQ\tComment\tAuthors\tHJeslXQCTX\trkxS0tgca7\n",
      "2018-12-03T12:52:13\trylV-2C9KQ\tComment\tAnonReviewer1\tH1xSIp171N\tHJeslXQCTX\n",
      "2018-12-12T18:16:14\trylV-2C9KQ\tMetareview\tArea_Chair1\tByxI6UMklE\trylV-2C9KQ\n",
      "2019-02-22T15:37:18\trylV-2C9KQ\tRevision\tAuthors\tS1wKpATB4\tNone\n",
      "2022-02-10T06:32:36\trylV-2C9KQ\tRevision\tAuthors\trM3Avuzy9\tNone\n",
      "2022-03-11T00:09:01\trylV-2C9KQ\tRevision\tAuthors\tBEe8dtIubq\tNone\n",
      "\n",
      "\n"
     ]
    }
   ],
   "source": [
    "for i, forum_note in enumerate(openreview.tools.iterget_notes(\n",
    "        guest_client, invitation=INVITATION)):\n",
    "    events = get_events_from_forum(forum_note)\n",
    "    title = forum_note.content[\"title\"]\n",
    "    print(f\"# {len(events)} events in {title}\\n\")\n",
    "    for event in events:\n",
    "        print(event.stringify())\n",
    "    print(\"\\n\")\n",
    "    \n",
    "    if i + 1 == LIMIT:\n",
    "        break"
   ]
  }
 ],
 "metadata": {
  "kernelspec": {
   "display_name": "Python 3 (ipykernel)",
   "language": "python",
   "name": "python3"
  },
  "language_info": {
   "codemirror_mode": {
    "name": "ipython",
    "version": 3
   },
   "file_extension": ".py",
   "mimetype": "text/x-python",
   "name": "python",
   "nbconvert_exporter": "python",
   "pygments_lexer": "ipython3",
   "version": "3.9.7"
  }
 },
 "nbformat": 4,
 "nbformat_minor": 5
}
