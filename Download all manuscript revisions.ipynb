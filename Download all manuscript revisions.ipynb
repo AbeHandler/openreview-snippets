{
 "cells": [
  {
   "cell_type": "markdown",
   "id": "877a9ba0",
   "metadata": {},
   "source": [
    "# Download all manuscript revisions\n",
    "\n",
    "## Description\n",
    "Given an OpenReview invitation, download pdfs of all its revisions.\n",
    "\n",
    "## Notes\n",
    "* I don't know what the significance of the different versions are, in particular which is the one considered for peer review, which is the camera ready version, which version is the 'main' version in the forum -- I just got the main/reference distinction from the API.\n",
    "* You may have to do some kind of rate limiting thing in order to not get in trouble with the OpenReview API. I haven't tested this with `LIMIT > 10`.\n",
    "* Don't be alarmed if filenames appear like `main_2018-09-28T04/08/02.pdf` in Finder on your mac -- that's just a bug in Finder with displaying `:` in filenames."
   ]
  },
  {
   "cell_type": "code",
   "execution_count": null,
   "id": "6e4a8f7b",
   "metadata": {},
   "outputs": [],
   "source": [
    "from datetime import datetime\n",
    "import openreview\n",
    "import os\n",
    "import tqdm\n",
    "\n",
    "# Change these values according to your needs\n",
    "INVITATION = 'ICLR.cc/2019/Conference/-/Blind_Submission'\n",
    "OUTPUT_DIR = \"./ICLR2019_pdfs\"\n",
    "LIMIT = 10 # Number of papers to download all revisions for\n",
    "\n",
    "# A client is required for any OpenReview API actions\n",
    "guest_client = openreview.Client(baseurl='https://api.openreview.net')"
   ]
  },
  {
   "cell_type": "code",
   "execution_count": null,
   "id": "3a78bd19",
   "metadata": {},
   "outputs": [],
   "source": [
    "def get_pdf_filename(forum_dir, timestamp, is_reference):\n",
    "    \"\"\"Produce a filename for the pdf with a human readable timestamp.\n",
    "    \n",
    "        Args:\n",
    "            forum_dir: Directory to write pdfs to\n",
    "            timestamp: Unix timestamp from note.tcdate in OR Note object\n",
    "            is_reference: follows is_reference value of OR API.\n",
    "        \n",
    "        Returns:\n",
    "            pdf filename with timestamps in forum_dir\n",
    "    \"\"\"\n",
    "    nice_timestamp = datetime.fromtimestamp(\n",
    "        timestamp/1000).strftime('%Y-%m-%dT%H:%M:%S') # Something human-readable for the file name\n",
    "    if is_reference:\n",
    "        main_or_revision =  \"revision\"\n",
    "    else:\n",
    "        main_or_revision =  \"main\"\n",
    "    return forum_dir + \"/{0}_{1}.pdf\".format(main_or_revision, nice_timestamp)\n",
    "\n",
    "def write_pdf_to_file(guest_client, forum_dir, note):\n",
    "    \"\"\"Get pdf of manuscript and write to an appropriately named file.\n",
    "        Args:\n",
    "            guest_client: OR API client\n",
    "            forum_dir: Directory to write pdfs to\n",
    "            note: OR API Note object\n",
    "        Returns:\n",
    "            None\n",
    "    \"\"\"\n",
    "    is_reference = not (note.id == note.forum)\n",
    "    pdf_binary = guest_client.get_pdf(note.id, is_reference=is_reference)\n",
    "    with open(get_pdf_filename(forum_dir, note.tcdate, is_reference), 'wb') as file_handle:\n",
    "        file_handle.write(pdf_binary)"
   ]
  },
  {
   "cell_type": "code",
   "execution_count": null,
   "id": "43207439",
   "metadata": {},
   "outputs": [],
   "source": [
    "pdfs_dir = OUTPUT_DIR + \"/\"\n",
    "os.makedirs(pdfs_dir, exist_ok=True)\n",
    "\n",
    "for i, forum_note in enumerate(openreview.tools.iterget_notes(\n",
    "        guest_client, invitation=INVITATION)):\n",
    "    forum_dir = pdfs_dir + forum_note.id\n",
    "    os.makedirs(forum_dir, exist_ok=True)\n",
    "    write_pdf_to_file(guest_client, forum_dir, forum_note)\n",
    "    for revision in tqdm.tqdm(guest_client.get_references(\n",
    "            referent=forum_note.id, original=True),\n",
    "            desc=\"Getting revisions for {0}\".format(forum_note.id)):\n",
    "        write_pdf_to_file(guest_client, forum_dir, revision)\n",
    "    \n",
    "    if i == LIMIT:\n",
    "        break"
   ]
  },
  {
   "cell_type": "code",
   "execution_count": null,
   "id": "8b21f82d",
   "metadata": {},
   "outputs": [],
   "source": []
  }
 ],
 "metadata": {
  "kernelspec": {
   "display_name": "Python 3 (ipykernel)",
   "language": "python",
   "name": "python3"
  },
  "language_info": {
   "codemirror_mode": {
    "name": "ipython",
    "version": 3
   },
   "file_extension": ".py",
   "mimetype": "text/x-python",
   "name": "python",
   "nbconvert_exporter": "python",
   "pygments_lexer": "ipython3",
   "version": "3.9.7"
  }
 },
 "nbformat": 4,
 "nbformat_minor": 5
}
